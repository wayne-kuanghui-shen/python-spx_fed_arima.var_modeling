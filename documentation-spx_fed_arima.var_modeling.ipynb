{
 "cells": [
  {
   "cell_type": "markdown",
   "metadata": {
    "id": "dwDL2LM41Z-i"
   },
   "source": [
    "# *Forecasting US Equity Market: Exploring the Role of Fed Monetary Policy*\n",
    "\n",
    "## Kuanghui Shen\n",
    "\n",
    "---\n",
    "\n",
    "### Summary\n",
    "\n",
    "The FOMC meeting is one of the high-profile events for stock investors, as the interest rate decision directly affects companies' future cash flows as well as discount rate. The project aims to **forecast the US stock market with the Federal Reserve monetary policy meetings using time series models.**\n",
    "\n",
    "Different ways to capture the effect of Fed meetings on stock prices are examined:\n",
    "* **(1) Transform the explanatory variable (Fed fund rate data) into potentially useful forms**:\n",
    "    * *\"Fed_fund_rate\"* : a numeric variable of the Fed fund rate level of that month\n",
    "    * *\"Fed_meeting\"* : a dummy variable where 0 = there was no Fed meeting during that month, 1 = there was a Fed meeting\n",
    "    * *\"Fed_change\"* : a categorical variable for the change of interest rate, where 1 = increase, 0 = unchagned, -1 = decrease\n",
    "* **(2) Treat the explanatory variable (Fed fund rate data) as both exogenous and endogenous variables in time series models**\n",
    "    * In ARIMA model, *\"Fed_meeting\"* and *\"Fed_change\"* are included as exogenous variables to compare with the one without exogenous variables\n",
    "    * In VAR model, *\"Fed_fund_rate\"* is included as endogeous variable along with *S&P 500 index* itself to explain the equity price fluctuation\n",
    "\n",
    "\n",
    "The results show that **Fed meeting-related data is not useful in forecasting equity prices**, either included as endogenous or exogenous variables in ARIMA and VAR model. Further, correlation test, variance decomposition and granger causality test all support this result. But no significant result could also be an important result, as it suggests that **asset managers might not want to use Fed meeting related data to predict equity prices.**\n",
    "\n",
    "---"
   ]
  },
  {
   "cell_type": "markdown",
   "metadata": {
    "id": "8bp39Gdygwd0"
   },
   "source": [
    "## **1. Overview**\n",
    "\n",
    "### **Research Aim**\n",
    "* The research project aims to **forecast the US stock market using the Federal Reserve monetary policy meetings**\n",
    "* Due to the property of the dataset, **time series models** are being used instead of linear regression models\n",
    "* **This study tried different ways to capture the effect of Fed meetings on the US equity market**, including: \n",
    "\n",
    "   **(1) Derive the orignial dataset into potentially useful forms;** \n",
    "\n",
    "   **(2) Treat the independent variables as both exogenous and endogenous.**\n",
    "\n",
    "### **Challenges for Modeling**\n",
    "* **Data scraping needed**, since the Fed meeting schedules/announcements are in text/PDF forms on the official website\n",
    "* **Feature engineering needed**, to capture the potentailly different effects of the Fed meetings in different forms\n",
    "* **Inverse transformation needed**, to present the results of forecasting\n",
    "* Inconsistent datetime from different datasets \n",
    "* Inconsistently-formatted strings\n",
    "* Multiple missing values \n",
    "\n",
    "### **Data Description**\n",
    "* This is a macroeconomic and financial time-series dataset from 2000/1/3 to 2023/4/25\n",
    "* The data source is : investing.com (https://www.investing.com)\n",
    "* The original dataset contains **9 columns and 5873 rows**, and after cleaning the final dataset contains **5 columns and 279 rows**"
   ]
  },
  {
   "cell_type": "markdown",
   "metadata": {
    "id": "GKL2RZdjJdhz"
   },
   "source": [
    "## **2. Data Collection**\n",
    "\n",
    "* **Data ccraping for Fed meeting related data**\n",
    "* **Combine different datasets with inconsistent datetime**"
   ]
  },
  {
   "cell_type": "markdown",
   "metadata": {
    "id": "1Om5TzzrQsh2"
   },
   "source": [
    "## **3. Data Cleaning & Feature Engineering**\n",
    "\n",
    "### **Data Cleaning**\n",
    "*  Inconsistently-formatted strings\n",
    "*  Inconsistent datetime from different datasets\n",
    "*  Drop/Fill missing values\n",
    "*  Drop irrelevant columns and numerize the variables for modeling\n",
    "*  Inverse transformation of variables in percentage to level\n",
    "\n",
    "### **Feature Engineering**\n",
    "* Create dummy variables\n",
    "* Create categorical variables\n",
    "* Create derived variables from other columns\n",
    "\n",
    "### Variables\n",
    "Dependent variables\n",
    "* ***(1) SPX_price*** : S&P 500 close price\n",
    "* ***(2) SPX_return*** : S&P 500 return(%)\n",
    "\n",
    "Independent Variables\n",
    "* ***(3) Fed_rate*** : Fed interest rate decision from the meeting\n",
    "* ***(4) Fed_meeting*** : dummy variable for whether there is a Fed meeting on that month\n",
    "* ***(5) Fed_change*** : categorical variable for the change of interest rate, where 1 = increase, 0 = unchagned, -1 = decrease"
   ]
  },
  {
   "cell_type": "markdown",
   "metadata": {
    "id": "ryqPHLa_T8aO"
   },
   "source": [
    "## **4. Modeling & Forecasting**\n",
    "* Pre-modeling: examination of the predictive power of the variables\n",
    "* **ARIMA**(AutoRegressive Integrated Moving Average) forecasting\n",
    "* **VAR**(Vector AutoRegression) forecasting"
   ]
  },
  {
   "cell_type": "markdown",
   "metadata": {
    "id": "DsaCmeV-8pQg"
   },
   "source": [
    "## **5. Discussions**\n",
    "\n",
    "### **Conclusions**\n",
    "* The study tries to examine the relationship between Federal Reserve monetary policy meeting and S&P 500 index. This is a crucial quesiton since Fed policy rate directly affects the discount rate of equities and indirectly affects future cash flows by weighing on the economy, under a discounted cash flow valuation framework. **And most importantly, investors care!**\n",
    "* But the empirical results of this study show that **Fed meeting-related data is not useful in forecasting equity prices, either included as** endogenous or exogenous variables in ARIMA and VAR model. Also, **correlation test, linear regression result, variance decomposition(from VAR) and granger causality test(from VAR) all support the forecasting result**.\n",
    "* But no significant result is also an important result! The study implies that **asset managers should not use past Fed meeting related data to evalute the price of an equity asset, but focus on other factos instead.**\n",
    "\n",
    "### **Limitations**\n",
    "* This study fails to find a significant relationship between Fed meeting and equity prices. There might be some other ways to process the data or try different modeling methods that could potentially improve the forecasting results. Even though I have tried log transformation/normalization on the dataset, variables in levels/percentage and difference combination of variable inputs, none yielded ideal results.\n",
    "* **But Fed policy meeting definetely matters for equit pricing, since equity prices reflect future economic/policy expectations rather than past data**. So furthur stuies could be conducted by **using the market expectation of Fed policy rate, such as Fed Fund Futures prices or analyst consensus estimates of Fed meetings. **"
   ]
  }
 ],
 "metadata": {
  "colab": {
   "authorship_tag": "ABX9TyO4FM4K/S7JlqUIAW7ZCC5U",
   "mount_file_id": "10pECZNzmfFuk00ZU0mFzgGiys20_lOLM",
   "provenance": [
    {
     "file_id": "1fU4LXVKstZMqza5eabBF6LS6aWRDjG2T",
     "timestamp": 1683142125125
    },
    {
     "file_id": "131vX_2EIbJCHFOvpXfuvCdCG0y86r97o",
     "timestamp": 1682807635455
    }
   ]
  },
  "kernelspec": {
   "display_name": "Python 3 (ipykernel)",
   "language": "python",
   "name": "python3"
  },
  "language_info": {
   "codemirror_mode": {
    "name": "ipython",
    "version": 3
   },
   "file_extension": ".py",
   "mimetype": "text/x-python",
   "name": "python",
   "nbconvert_exporter": "python",
   "pygments_lexer": "ipython3",
   "version": "3.11.2"
  }
 },
 "nbformat": 4,
 "nbformat_minor": 1
}
